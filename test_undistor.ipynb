{
 "cells": [
  {
   "cell_type": "code",
   "execution_count": null,
   "metadata": {},
   "outputs": [],
   "source": [
    "import cv2\n",
    "import numpy as np\n",
    "from matplotlib import pyplot as plt\n",
    "from QuadUtils import K_xi_from_Intrinsic\n",
    "from fisheye_undist import FisheyeUndist\n",
    "from transformations import quaternion_from_matrix, quaternion_matrix, euler_from_matrix, euler_matrix, quaternion_from_euler"
   ]
  },
  {
   "cell_type": "code",
   "execution_count": null,
   "metadata": {},
   "outputs": [],
   "source": [
    "\n",
    "image_gray = cv2.imread('sample_data/image_170_0.png', cv2.IMREAD_GRAYSCALE)\n",
    "plt.imshow(image_gray, cmap='gray')\n",
    "intrinsic_init = np.array([1.4427025149556625, 892.2339790689094, 891.2279591983017, 640.631425314267, 366.1326580689927])\n",
    "D_init = np.array([-0.34787797,  0.12383196, -0.00235618,  0.00283412])\n",
    "\n",
    "K, xi = K_xi_from_Intrinsic(intrinsic_init)\n",
    "new_size = (1280, 720)\n",
    "Knew = np.array([[200, 0.0, 640],\n",
    "                [0.0, 200, 360],\n",
    "                [0.0, 0.0, 1.0]], dtype=np.float64)\n",
    "R = np.eye(3)\n",
    "map1, map2 = cv2.omnidir.initUndistortRectifyMap(K, D_init, xi, R,\n",
    "                                                            Knew, new_size, cv2.CV_16SC2,\n",
    "                                                            cv2.omnidir.RECTIFY_PERSPECTIVE)\n",
    "image_undist = cv2.remap(image_gray, map1, map2, interpolation=cv2.INTER_LINEAR)\n",
    "\n",
    "image_combined = np.hstack((image_gray, image_undist))\n",
    "plt.imshow(image_combined, cmap='gray')\n",
    "plt.show()\n",
    "\n"
   ]
  },
  {
   "cell_type": "code",
   "execution_count": null,
   "metadata": {},
   "outputs": [],
   "source": [
    "intrinsic_init = np.array([1.4427025149556625, 892.2339790689094, 891.2279591983017, 640.631425314267, 366.1326580689927])\n",
    "D_init = np.array([-0.34787797,  0.12383196, -0.00235618,  0.00283412])\n",
    "K, xi = K_xi_from_Intrinsic(intrinsic_init)\n",
    "\n",
    "image_gray = cv2.imread('sample_data/image_170_0.png', cv2.IMREAD_GRAYSCALE)\n",
    "plt.imshow(image_gray, cmap='gray')\n",
    "plt.show()\n",
    "fisheye_undist = FisheyeUndist(K, D_init, xi[0], fov=180, width=640, height=640)\n",
    "imgs = fisheye_undist.undistAll(image_gray)\n",
    "for img in imgs:\n",
    "    plt.imshow(img, cmap='gray')\n",
    "    plt.show()"
   ]
  },
  {
   "cell_type": "code",
   "execution_count": null,
   "metadata": {},
   "outputs": [],
   "source": []
  }
 ],
 "metadata": {
  "kernelspec": {
   "display_name": "base",
   "language": "python",
   "name": "python3"
  },
  "language_info": {
   "codemirror_mode": {
    "name": "ipython",
    "version": 3
   },
   "file_extension": ".py",
   "mimetype": "text/x-python",
   "name": "python",
   "nbconvert_exporter": "python",
   "pygments_lexer": "ipython3",
   "version": "3.10.9"
  }
 },
 "nbformat": 4,
 "nbformat_minor": 2
}
