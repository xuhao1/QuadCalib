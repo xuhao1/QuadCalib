{
 "cells": [
  {
   "cell_type": "code",
   "execution_count": null,
   "metadata": {},
   "outputs": [],
   "source": [
    "import cv2\n",
    "import numpy as np\n",
    "from matplotlib import pyplot as plt\n",
    "from QuadUtils import K_xi_from_Intrinsic\n"
   ]
  },
  {
   "cell_type": "code",
   "execution_count": null,
   "metadata": {},
   "outputs": [],
   "source": [
    "image_gray = cv2.imread('sample_data/image_170_0.png', cv2.IMREAD_GRAYSCALE)\n",
    "intrinsic_init = np.array([1.24, 813, 812, 640, 360])\n",
    "D_init = np.array([-0.38871409,  0.14562629, -0.00313268, -0.0010537])\n",
    "\n",
    "K, xi = K_xi_from_Intrinsic(intrinsic_init)\n",
    "new_size = (1280, 720)\n",
    "Knew = np.array([[400, 0.0, 0.0],\n",
    "                [0.0, 300, 0.0],\n",
    "                [0.0, 0.0, 1.0]], dtype=np.float64)\n",
    "map1, map2 = cv2.omnidir.initUndistortRectifyMap(K, D_init, xi, np.eye(3),\n",
    "                                                            Knew, new_size, cv2.CV_16SC2, cv2.omnidir.RECTIFY_LONGLATI)\n",
    "image_undist = cv2.remap(image_gray, map1, map2, interpolation=cv2.INTER_LINEAR)\n",
    "\n",
    "image_combined = np.hstack((image_gray, image_undist))\n",
    "plt.imshow(image_combined, cmap='gray')\n",
    "plt.show()"
   ]
  },
  {
   "cell_type": "code",
   "execution_count": null,
   "metadata": {},
   "outputs": [],
   "source": []
  }
 ],
 "metadata": {
  "kernelspec": {
   "display_name": "base",
   "language": "python",
   "name": "python3"
  },
  "language_info": {
   "codemirror_mode": {
    "name": "ipython",
    "version": 3
   },
   "file_extension": ".py",
   "mimetype": "text/x-python",
   "name": "python",
   "nbconvert_exporter": "python",
   "pygments_lexer": "ipython3",
   "version": "3.10.9"
  }
 },
 "nbformat": 4,
 "nbformat_minor": 2
}
